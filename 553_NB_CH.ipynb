{
 "cells": [
  {
   "cell_type": "code",
   "execution_count": 87,
   "metadata": {},
   "outputs": [],
   "source": [
    "import pandas as pd\n",
    "import numpy as np\n",
    "from sklearn.feature_extraction.text import CountVectorizer\n",
    "import os\n",
    "cwd = os.getcwd()\n",
    "train_bug = pd.read_json(cwd+'/training_data/Bug_tt.json')\n",
    "train_feature = pd.read_json(cwd+'/training_data/Feature_tt.json')\n",
    "train_rating = pd.read_json(cwd+'/training_data/Rating_tt.json')\n",
    "train_userex = pd.read_json(cwd+'/training_data/UserExperience_tt.json')"
   ]
  },
  {
   "cell_type": "code",
   "execution_count": 88,
   "metadata": {},
   "outputs": [
    {
     "name": "stdout",
     "output_type": "stream",
     "text": [
      "740\n",
      "370\n"
     ]
    }
   ],
   "source": [
    "train_bug['Bug'] = np.where(train_bug['label']==\"Bug\", 1, 0)\n",
    "print(len(train_bug))\n",
    "print(train_bug.Bug.sum())"
   ]
  },
  {
   "cell_type": "code",
   "execution_count": 89,
   "metadata": {},
   "outputs": [
    {
     "name": "stdout",
     "output_type": "stream",
     "text": [
      "616\n",
      "295\n"
     ]
    }
   ],
   "source": [
    "train_feature['Feature'] = np.where(train_feature['label']==\"Feature\", 1, 0)\n",
    "print(len(train_feature))\n",
    "print(train_feature.Feature.sum())"
   ]
  },
  {
   "cell_type": "code",
   "execution_count": 90,
   "metadata": {},
   "outputs": [
    {
     "name": "stdout",
     "output_type": "stream",
     "text": [
      "740\n",
      "370\n"
     ]
    }
   ],
   "source": [
    "train_rating['Rating'] = np.where(train_rating['label']==\"Rating\", 1, 0)\n",
    "print(len(train_rating))\n",
    "print(train_rating.Rating.sum())"
   ]
  },
  {
   "cell_type": "code",
   "execution_count": 43,
   "metadata": {},
   "outputs": [
    {
     "data": {
      "text/plain": [
       "616"
      ]
     },
     "execution_count": 43,
     "metadata": {},
     "output_type": "execute_result"
    }
   ],
   "source": [
    "train_feature.Feature.sum()\n",
    "len(train_feature)"
   ]
  },
  {
   "cell_type": "code",
   "execution_count": 84,
   "metadata": {},
   "outputs": [
    {
     "data": {
      "text/html": [
       "<div>\n",
       "<style scoped>\n",
       "    .dataframe tbody tr th:only-of-type {\n",
       "        vertical-align: middle;\n",
       "    }\n",
       "\n",
       "    .dataframe tbody tr th {\n",
       "        vertical-align: top;\n",
       "    }\n",
       "\n",
       "    .dataframe thead th {\n",
       "        text-align: right;\n",
       "    }\n",
       "</style>\n",
       "<table border=\"1\" class=\"dataframe\">\n",
       "  <thead>\n",
       "    <tr style=\"text-align: right;\">\n",
       "      <th></th>\n",
       "      <th>comment</th>\n",
       "      <th>rating</th>\n",
       "      <th>past</th>\n",
       "      <th>stopwords_removal</th>\n",
       "      <th>reviewer</th>\n",
       "      <th>id</th>\n",
       "      <th>stemmed</th>\n",
       "      <th>fee</th>\n",
       "      <th>title</th>\n",
       "      <th>label</th>\n",
       "      <th>...</th>\n",
       "      <th>stopwords_removal_nltk</th>\n",
       "      <th>present_simple</th>\n",
       "      <th>dataSource</th>\n",
       "      <th>appId</th>\n",
       "      <th>date</th>\n",
       "      <th>sentiScore_pos</th>\n",
       "      <th>present_con</th>\n",
       "      <th>length_words</th>\n",
       "      <th>stopwords_removal_lemmatization</th>\n",
       "      <th>Feature</th>\n",
       "    </tr>\n",
       "  </thead>\n",
       "  <tbody>\n",
       "    <tr>\n",
       "      <th>0</th>\n",
       "      <td>Can't open the apps\\tWhenever I open the apps ...</td>\n",
       "      <td>2</td>\n",
       "      <td>3</td>\n",
       "      <td>cant open apps whenever open apps shut after f...</td>\n",
       "      <td>cid-gp:AOqpTOE7Wl4BHdwVdk4us0YSC0ItQpCLle6DbbI...</td>\n",
       "      <td>84</td>\n",
       "      <td>cant op the ap whenev i op the ap it shut down...</td>\n",
       "      <td>free</td>\n",
       "      <td>None</td>\n",
       "      <td>Feature</td>\n",
       "      <td>...</td>\n",
       "      <td>cant open apps whenever open apps shut seconds...</td>\n",
       "      <td>2</td>\n",
       "      <td>playStore_random</td>\n",
       "      <td>#10_line gratis anrufe</td>\n",
       "      <td>13:01:14:02:54:25</td>\n",
       "      <td>1</td>\n",
       "      <td>0</td>\n",
       "      <td>36</td>\n",
       "      <td>cant open apps whenever open apps shut after f...</td>\n",
       "      <td>1</td>\n",
       "    </tr>\n",
       "    <tr>\n",
       "      <th>1</th>\n",
       "      <td>App runs too slow!!!</td>\n",
       "      <td>2</td>\n",
       "      <td>0</td>\n",
       "      <td>app runs too slow!!!</td>\n",
       "      <td>None</td>\n",
       "      <td>207</td>\n",
       "      <td>ap run too slow!!!</td>\n",
       "      <td>None</td>\n",
       "      <td>Needs update</td>\n",
       "      <td>Feature</td>\n",
       "      <td>...</td>\n",
       "      <td>app runs slow!!!</td>\n",
       "      <td>1</td>\n",
       "      <td>AppStore_Random</td>\n",
       "      <td>410292502</td>\n",
       "      <td>None</td>\n",
       "      <td>2</td>\n",
       "      <td>0</td>\n",
       "      <td>7</td>\n",
       "      <td>app run too slow!!!</td>\n",
       "      <td>1</td>\n",
       "    </tr>\n",
       "    <tr>\n",
       "      <th>2</th>\n",
       "      <td>This is a great app. I've used ODB on my iPod ...</td>\n",
       "      <td>5</td>\n",
       "      <td>9</td>\n",
       "      <td>this great app ive used odb ipod touch then ip...</td>\n",
       "      <td>None</td>\n",
       "      <td>166</td>\n",
       "      <td>thi is a gre app ive us odb on my ipod touch a...</td>\n",
       "      <td>None</td>\n",
       "      <td>Great App Gets Better!</td>\n",
       "      <td>Feature</td>\n",
       "      <td>...</td>\n",
       "      <td>great app ive used odb ipod touch iphone got i...</td>\n",
       "      <td>32</td>\n",
       "      <td>AppStore_Random</td>\n",
       "      <td>437496538</td>\n",
       "      <td>None</td>\n",
       "      <td>3</td>\n",
       "      <td>3</td>\n",
       "      <td>285</td>\n",
       "      <td>this great app ive use odb ipod touch then iph...</td>\n",
       "      <td>1</td>\n",
       "    </tr>\n",
       "    <tr>\n",
       "      <th>3</th>\n",
       "      <td>I listen to it a lot. However, it will once in...</td>\n",
       "      <td>4</td>\n",
       "      <td>0</td>\n",
       "      <td>listen to lot however, will once while disconn...</td>\n",
       "      <td>None</td>\n",
       "      <td>147</td>\n",
       "      <td>i list to it a lot however, it wil ont in a wh...</td>\n",
       "      <td>None</td>\n",
       "      <td>APD</td>\n",
       "      <td>Feature</td>\n",
       "      <td>...</td>\n",
       "      <td>listen lot however, disconnect apparent reason...</td>\n",
       "      <td>4</td>\n",
       "      <td>AppStore_Random</td>\n",
       "      <td>358640670</td>\n",
       "      <td>None</td>\n",
       "      <td>3</td>\n",
       "      <td>0</td>\n",
       "      <td>45</td>\n",
       "      <td>listen to lot however, will once while disconn...</td>\n",
       "      <td>1</td>\n",
       "    </tr>\n",
       "    <tr>\n",
       "      <th>4</th>\n",
       "      <td>Easy to use. I wished it was able to determine...</td>\n",
       "      <td>4</td>\n",
       "      <td>3</td>\n",
       "      <td>easy to use wished was able to determine what ...</td>\n",
       "      <td>None</td>\n",
       "      <td>185</td>\n",
       "      <td>easy to use i wish it was abl to determin what...</td>\n",
       "      <td>None</td>\n",
       "      <td>Works well</td>\n",
       "      <td>Feature</td>\n",
       "      <td>...</td>\n",
       "      <td>easy use wished able determine hole on</td>\n",
       "      <td>2</td>\n",
       "      <td>AppStore_Random</td>\n",
       "      <td>322399059</td>\n",
       "      <td>None</td>\n",
       "      <td>1</td>\n",
       "      <td>0</td>\n",
       "      <td>17</td>\n",
       "      <td>easy to use wish be able to determine what hol...</td>\n",
       "      <td>1</td>\n",
       "    </tr>\n",
       "  </tbody>\n",
       "</table>\n",
       "<p>5 rows × 25 columns</p>\n",
       "</div>"
      ],
      "text/plain": [
       "                                             comment  rating  past  \\\n",
       "0  Can't open the apps\\tWhenever I open the apps ...       2     3   \n",
       "1                               App runs too slow!!!       2     0   \n",
       "2  This is a great app. I've used ODB on my iPod ...       5     9   \n",
       "3  I listen to it a lot. However, it will once in...       4     0   \n",
       "4  Easy to use. I wished it was able to determine...       4     3   \n",
       "\n",
       "                                   stopwords_removal  \\\n",
       "0  cant open apps whenever open apps shut after f...   \n",
       "1                               app runs too slow!!!   \n",
       "2  this great app ive used odb ipod touch then ip...   \n",
       "3  listen to lot however, will once while disconn...   \n",
       "4  easy to use wished was able to determine what ...   \n",
       "\n",
       "                                            reviewer   id  \\\n",
       "0  cid-gp:AOqpTOE7Wl4BHdwVdk4us0YSC0ItQpCLle6DbbI...   84   \n",
       "1                                               None  207   \n",
       "2                                               None  166   \n",
       "3                                               None  147   \n",
       "4                                               None  185   \n",
       "\n",
       "                                             stemmed   fee  \\\n",
       "0  cant op the ap whenev i op the ap it shut down...  free   \n",
       "1                                 ap run too slow!!!  None   \n",
       "2  thi is a gre app ive us odb on my ipod touch a...  None   \n",
       "3  i list to it a lot however, it wil ont in a wh...  None   \n",
       "4  easy to use i wish it was abl to determin what...  None   \n",
       "\n",
       "                    title    label  ...  \\\n",
       "0                    None  Feature  ...   \n",
       "1            Needs update  Feature  ...   \n",
       "2  Great App Gets Better!  Feature  ...   \n",
       "3                     APD  Feature  ...   \n",
       "4              Works well  Feature  ...   \n",
       "\n",
       "                              stopwords_removal_nltk present_simple  \\\n",
       "0  cant open apps whenever open apps shut seconds...              2   \n",
       "1                                   app runs slow!!!              1   \n",
       "2  great app ive used odb ipod touch iphone got i...             32   \n",
       "3  listen lot however, disconnect apparent reason...              4   \n",
       "4             easy use wished able determine hole on              2   \n",
       "\n",
       "         dataSource                   appId               date sentiScore_pos  \\\n",
       "0  playStore_random  #10_line gratis anrufe  13:01:14:02:54:25              1   \n",
       "1   AppStore_Random               410292502               None              2   \n",
       "2   AppStore_Random               437496538               None              3   \n",
       "3   AppStore_Random               358640670               None              3   \n",
       "4   AppStore_Random               322399059               None              1   \n",
       "\n",
       "   present_con length_words  \\\n",
       "0            0           36   \n",
       "1            0            7   \n",
       "2            3          285   \n",
       "3            0           45   \n",
       "4            0           17   \n",
       "\n",
       "                     stopwords_removal_lemmatization Feature  \n",
       "0  cant open apps whenever open apps shut after f...       1  \n",
       "1                                app run too slow!!!       1  \n",
       "2  this great app ive use odb ipod touch then iph...       1  \n",
       "3  listen to lot however, will once while disconn...       1  \n",
       "4  easy to use wish be able to determine what hol...       1  \n",
       "\n",
       "[5 rows x 25 columns]"
      ]
     },
     "execution_count": 84,
     "metadata": {},
     "output_type": "execute_result"
    }
   ],
   "source": [
    "train_feature.head()"
   ]
  },
  {
   "cell_type": "code",
   "execution_count": 132,
   "metadata": {},
   "outputs": [],
   "source": [
    "from sklearn.feature_extraction.text import CountVectorizer\n",
    "count_vect = CountVectorizer(ngram_range=(2,2))\n",
    "X_train_counts = count_vect.fit_transform(train_feature.comment)"
   ]
  },
  {
   "cell_type": "code",
   "execution_count": 133,
   "metadata": {},
   "outputs": [],
   "source": [
    "from sklearn.naive_bayes import GaussianNB\n",
    "model_bow = GaussianNB()\n",
    "model_bow = model_bow.fit(X_train_counts.toarray(),train_feature.Feature)"
   ]
  },
  {
   "cell_type": "code",
   "execution_count": 152,
   "metadata": {},
   "outputs": [
    {
     "data": {
      "text/plain": [
       "0.5520833333333334"
      ]
     },
     "execution_count": 152,
     "metadata": {},
     "output_type": "execute_result"
    }
   ],
   "source": [
    "test = pd.read_excel('data553_CH.xlsx')\n",
    "test=test.fillna(0)\n",
    "X_test_counts = count_vect.transform(test.text)\n",
    "bow_pred = model_bow.predict(X_test_counts.todense())\n",
    "bow_pred\n",
    "np.mean(bow_pred==test['Feature requests'])"
   ]
  },
  {
   "cell_type": "code",
   "execution_count": 144,
   "metadata": {},
   "outputs": [
    {
     "data": {
      "text/plain": [
       "172"
      ]
     },
     "execution_count": 144,
     "metadata": {},
     "output_type": "execute_result"
    }
   ],
   "source": [
    "bow_pred.sum()"
   ]
  },
  {
   "cell_type": "code",
   "execution_count": 145,
   "metadata": {},
   "outputs": [
    {
     "data": {
      "text/plain": [
       "20.0"
      ]
     },
     "execution_count": 145,
     "metadata": {},
     "output_type": "execute_result"
    }
   ],
   "source": [
    "test['Feature requests'].sum()"
   ]
  },
  {
   "cell_type": "code",
   "execution_count": 142,
   "metadata": {},
   "outputs": [
    {
     "data": {
      "text/plain": [
       "0      1.0\n",
       "1      1.0\n",
       "2      0.0\n",
       "3      0.0\n",
       "4      0.0\n",
       "      ... \n",
       "379    0.0\n",
       "380    0.0\n",
       "381    0.0\n",
       "382    0.0\n",
       "383    0.0\n",
       "Name: Feature requests, Length: 384, dtype: float64"
      ]
     },
     "execution_count": 142,
     "metadata": {},
     "output_type": "execute_result"
    }
   ],
   "source": [
    "test['Feature requests']"
   ]
  },
  {
   "cell_type": "code",
   "execution_count": 143,
   "metadata": {},
   "outputs": [
    {
     "data": {
      "text/plain": [
       "array([[202, 162],\n",
       "       [ 10,  10]], dtype=int64)"
      ]
     },
     "execution_count": 143,
     "metadata": {},
     "output_type": "execute_result"
    }
   ],
   "source": [
    "from sklearn.metrics import confusion_matrix\n",
    "confusion_matrix(test['Feature requests'],bow_pred)"
   ]
  },
  {
   "cell_type": "code",
   "execution_count": 147,
   "metadata": {},
   "outputs": [
    {
     "data": {
      "text/html": [
       "<div>\n",
       "<style scoped>\n",
       "    .dataframe tbody tr th:only-of-type {\n",
       "        vertical-align: middle;\n",
       "    }\n",
       "\n",
       "    .dataframe tbody tr th {\n",
       "        vertical-align: top;\n",
       "    }\n",
       "\n",
       "    .dataframe thead th {\n",
       "        text-align: right;\n",
       "    }\n",
       "</style>\n",
       "<table border=\"1\" class=\"dataframe\">\n",
       "  <thead>\n",
       "    <tr style=\"text-align: right;\">\n",
       "      <th>col_0</th>\n",
       "      <th>0</th>\n",
       "      <th>1</th>\n",
       "    </tr>\n",
       "    <tr>\n",
       "      <th>Feature requests</th>\n",
       "      <th></th>\n",
       "      <th></th>\n",
       "    </tr>\n",
       "  </thead>\n",
       "  <tbody>\n",
       "    <tr>\n",
       "      <th>0.0</th>\n",
       "      <td>202</td>\n",
       "      <td>162</td>\n",
       "    </tr>\n",
       "    <tr>\n",
       "      <th>1.0</th>\n",
       "      <td>10</td>\n",
       "      <td>10</td>\n",
       "    </tr>\n",
       "  </tbody>\n",
       "</table>\n",
       "</div>"
      ],
      "text/plain": [
       "col_0               0    1\n",
       "Feature requests          \n",
       "0.0               202  162\n",
       "1.0                10   10"
      ]
     },
     "execution_count": 147,
     "metadata": {},
     "output_type": "execute_result"
    }
   ],
   "source": [
    "df_confusion = pd.crosstab(test['Feature requests'],bow_pred)\n",
    "df_confusion"
   ]
  },
  {
   "cell_type": "code",
   "execution_count": 150,
   "metadata": {},
   "outputs": [
    {
     "name": "stdout",
     "output_type": "stream",
     "text": [
      "              precision    recall  f1-score   support\n",
      "\n",
      "         0.0       0.95      0.55      0.70       364\n",
      "         1.0       0.06      0.50      0.10        20\n",
      "\n",
      "    accuracy                           0.55       384\n",
      "   macro avg       0.51      0.53      0.40       384\n",
      "weighted avg       0.91      0.55      0.67       384\n",
      "\n"
     ]
    }
   ],
   "source": [
    "from sklearn.metrics import classification_report\n",
    "class_report = classification_report(test['Feature requests'],bow_pred)\n",
    "print(class_report)"
   ]
  },
  {
   "cell_type": "code",
   "execution_count": 102,
   "metadata": {},
   "outputs": [
    {
     "data": {
      "text/plain": [
       "0.033854166666666664"
      ]
     },
     "execution_count": 102,
     "metadata": {},
     "output_type": "execute_result"
    }
   ],
   "source": [
    "X_test_tfidf = tfidf_transformer.transform(X_test_counts)\n",
    "tfidf_pred = model_tfidf.predict(X_test_tfidf.todense())\n",
    "np.mean(tfidf_pred==test['Feature requests'])"
   ]
  },
  {
   "cell_type": "code",
   "execution_count": 50,
   "metadata": {},
   "outputs": [
    {
     "data": {
      "text/plain": [
       "283"
      ]
     },
     "execution_count": 50,
     "metadata": {},
     "output_type": "execute_result"
    }
   ],
   "source": [
    "model_bow.predict(X_train_counts.todense()).sum()"
   ]
  },
  {
   "cell_type": "code",
   "execution_count": 73,
   "metadata": {},
   "outputs": [
    {
     "data": {
      "text/plain": [
       "0.9967532467532467"
      ]
     },
     "execution_count": 73,
     "metadata": {},
     "output_type": "execute_result"
    }
   ],
   "source": [
    "np.mean(model_bow.predict(X_train_counts.todense())==train_feature.Feature)"
   ]
  }
 ],
 "metadata": {
  "kernelspec": {
   "display_name": "Python 3",
   "language": "python",
   "name": "python3"
  },
  "language_info": {
   "codemirror_mode": {
    "name": "ipython",
    "version": 3
   },
   "file_extension": ".py",
   "mimetype": "text/x-python",
   "name": "python",
   "nbconvert_exporter": "python",
   "pygments_lexer": "ipython3",
   "version": "3.7.3"
  }
 },
 "nbformat": 4,
 "nbformat_minor": 2
}
