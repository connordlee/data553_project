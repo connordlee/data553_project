{
 "cells": [
  {
   "cell_type": "code",
   "execution_count": 1,
   "metadata": {},
   "outputs": [],
   "source": [
    "##### ~~~ Library Imports ~~~ #####\n",
    "import pandas as pd\n",
    "import numpy as np\n",
    "from sklearn.feature_extraction.text import CountVectorizer\n",
    "import os\n",
    "from sklearn.naive_bayes import GaussianNB\n",
    "from sklearn.metrics import classification_report\n",
    "from sklearn.metrics import f1_score, precision_score, recall_score\n",
    "import scipy as sp\n",
    "from nltk.corpus import stopwords\n",
    "from nltk.stem import WordNetLemmatizer"
   ]
  },
  {
   "cell_type": "code",
   "execution_count": 2,
   "metadata": {},
   "outputs": [],
   "source": [
    "##### ~~~ Importing and Cleaing Training and Testing Data ~~~ #####\n",
    "# Reading in Training Data\n",
    "cwd = os.getcwd()\n",
    "train_bug = pd.read_json(cwd+'/training_data/Bug_tt.json')\n",
    "train_feature = pd.read_json(cwd+'/training_data/Feature_tt.json')\n",
    "train_rating = pd.read_json(cwd+'/training_data/Rating_tt.json')\n",
    "train_userex = pd.read_json(cwd+'/training_data/UserExperience_tt.json')"
   ]
  },
  {
   "cell_type": "code",
   "execution_count": 3,
   "metadata": {},
   "outputs": [],
   "source": [
    "# Labeling Training Data with Reveiw Types\n",
    "train_bug['Bug'] = np.where(train_bug['label']==\"Bug\", 1, 0)\n",
    "train_feature['Feature'] = np.where(train_feature['label']==\"Feature\", 1, 0)\n",
    "train_rating['Rating'] = np.where(train_rating['label']==\"Rating\", 1, 0)\n",
    "train_userex['Userex'] = np.where(train_userex['label']==\"UserExperience\",1,0)\n",
    "\n",
    "# Filling NAs with zeros for Training Data \n",
    "train_bug = train_bug.fillna(0)\n",
    "train_feature = train_feature.fillna(0)\n",
    "train_rating = train_rating.fillna(0)\n",
    "train_userex = train_userex.fillna(0)"
   ]
  },
  {
   "cell_type": "code",
   "execution_count": 4,
   "metadata": {},
   "outputs": [],
   "source": [
    "# Reading in Testing Data and filling NAs with zeros\n",
    "test_data = pd.read_excel('data553_CH+AK&CH+CL.xlsx')\n",
    "test_data=test_data.fillna(0)"
   ]
  },
  {
   "cell_type": "code",
   "execution_count": 5,
   "metadata": {},
   "outputs": [],
   "source": [
    "##### ~~~ Bigrams ~~~ #####\n",
    "# Function to process, fit, and run the bigrams model on the testing data\n",
    "def get_bigram(train_df,type,test_df):\n",
    "    count_vect = CountVectorizer(ngram_range=(2,2))\n",
    "    bg_train_counts = count_vect.fit_transform(train_df.comment)\n",
    "    bg_test_counts = count_vect.transform(test_df.text)\n",
    "    if type == 'Feature':\n",
    "        model_bigram = GaussianNB().fit(bg_train_counts.todense(),train_df.Feature)\n",
    "        bigram_pred = model_bigram.predict(bg_test_counts.todense())\n",
    "    elif type == 'Bug':\n",
    "        model_bigram = GaussianNB().fit(bg_train_counts.toarray(),train_df.Bug)\n",
    "        bigram_pred = model_bigram.predict(bg_test_counts.toarray())\n",
    "    elif type == 'Rating':\n",
    "        model_bigram = GaussianNB().fit(bg_train_counts.todense(),train_df.Rating)\n",
    "        bigram_pred = model_bigram.predict(bg_test_counts.todense())\n",
    "    elif type == 'Userex':\n",
    "        model_bigram = GaussianNB().fit(bg_train_counts.todense(),train_df.Userex)\n",
    "        bigram_pred = model_bigram.predict(bg_test_counts.todense())\n",
    "    f1 = f1_score(test_df[type],bigram_pred)\n",
    "    recall = recall_score(test_df[type],bigram_pred)\n",
    "    precision = precision_score(test_df[type],bigram_pred)\n",
    "    metrics = [type,precision,recall,f1]\n",
    "    return metrics"
   ]
  },
  {
   "cell_type": "code",
   "execution_count": 6,
   "metadata": {},
   "outputs": [],
   "source": [
    "# Running the Bigrams function for each review type and training set\n",
    "bg_feature_score = get_bigram(train_feature,'Feature',test_data)\n",
    "bg_bug_score = get_bigram(train_bug,'Bug',test_data)\n",
    "bg_userex_score = get_bigram(train_userex,'Userex',test_data)\n",
    "bg_rating_score = get_bigram(train_rating,'Rating',test_data)"
   ]
  },
  {
   "cell_type": "code",
   "execution_count": 7,
   "metadata": {},
   "outputs": [
    {
     "name": "stdout",
     "output_type": "stream",
     "text": [
      "['Feature', 0.14534883720930233, 0.6944444444444444, 0.2403846153846154]\n",
      "['Bug', 0.28776978417266186, 0.7142857142857143, 0.41025641025641024]\n",
      "['Userex', 0.41040462427745666, 0.6173913043478261, 0.4930555555555556]\n",
      "['Rating', 0.746606334841629, 0.6818181818181818, 0.712742980561555]\n"
     ]
    }
   ],
   "source": [
    "# Displaying the Bigrams Classification performance results on the test data\n",
    "print(bg_feature_score)\n",
    "print(bg_bug_score)\n",
    "print(bg_userex_score)\n",
    "print(bg_rating_score)"
   ]
  },
  {
   "cell_type": "code",
   "execution_count": 8,
   "metadata": {},
   "outputs": [],
   "source": [
    "##### ~~~ Bigrams + BOW - Stop Words + lemmatize ~~~ #####\n",
    "# Lemmatizing Function\n",
    "def lemmatizeData(commentSeries):\n",
    "    lemmatizer = WordNetLemmatizer()\n",
    "    tokens = [token for token in commentSeries.split(\" \") if token != \"\"]\n",
    "    output = ' '.join([lemmatizer.lemmatize(word) for word in tokens])\n",
    "    return output"
   ]
  },
  {
   "cell_type": "code",
   "execution_count": 9,
   "metadata": {},
   "outputs": [],
   "source": [
    "# Function to process, fit, and run the Bigrams + BOW - Stop Words + Lemmatize model on the testing data\n",
    "def get_bbsl(train_df,type,test_df):\n",
    "    bbsl_train_counts = train_df.comment.apply(lemmatizeData)\n",
    "    bbsl_test_counts = test_df.text.apply(lemmatizeData)\n",
    "    stop_words = set(stopwords.words('english'))\n",
    "    count_vect = CountVectorizer(stop_words=stop_words, ngram_range=(1,2))\n",
    "    bbsl_train_counts = count_vect.fit_transform(train_df.comment)\n",
    "    bbsl_test_counts = count_vect.transform(test_df.text)\n",
    "    if type == 'Feature':\n",
    "        model_bbsl = GaussianNB().fit(bbsl_train_counts.todense(),train_df.Feature)\n",
    "        bbsl_pred = model_bbsl.predict(bbsl_test_counts.todense())\n",
    "    elif type == 'Bug':\n",
    "        model_bbsl = GaussianNB().fit(bbsl_train_counts.toarray(),train_df.Bug)\n",
    "        bbsl_pred = model_bbsl.predict(bbsl_test_counts.toarray())\n",
    "    elif type == 'Rating':\n",
    "        model_bbsl = GaussianNB().fit(bbsl_train_counts.todense(),train_df.Rating)\n",
    "        bbsl_pred = model_bbsl.predict(bbsl_test_counts.todense())\n",
    "    elif type == 'Userex':\n",
    "        model_bbsl = GaussianNB().fit(bbsl_train_counts.todense(),train_df.Userex)\n",
    "        bbsl_pred = model_bbsl.predict(bbsl_test_counts.todense())\n",
    "    f1 = f1_score(test_df[type],bbsl_pred)\n",
    "    recall = recall_score(test_df[type],bbsl_pred)\n",
    "    precision = precision_score(test_df[type],bbsl_pred)\n",
    "    metrics = [type,precision,recall,f1]\n",
    "    return metrics"
   ]
  },
  {
   "cell_type": "code",
   "execution_count": 10,
   "metadata": {},
   "outputs": [],
   "source": [
    "# Running the Bigrams + BOW - Stop Words + Lemmatize function for each review type and training set\n",
    "bbsl_feature_score = get_bbsl(train_feature,'Feature',test_data)\n",
    "bbsl_bug_score = get_bbsl(train_bug,'Bug',test_data)\n",
    "bbsl_userex_score = get_bbsl(train_userex,'Userex',test_data)\n",
    "bbsl_rating_score = get_bbsl(train_rating,'Rating',test_data)"
   ]
  },
  {
   "cell_type": "code",
   "execution_count": 11,
   "metadata": {},
   "outputs": [
    {
     "name": "stdout",
     "output_type": "stream",
     "text": [
      "['Feature', 0.13157894736842105, 0.5555555555555556, 0.2127659574468085]\n",
      "['Bug', 0.28104575163398693, 0.7678571428571429, 0.41148325358851673]\n",
      "['Userex', 0.4258064516129032, 0.5739130434782609, 0.4888888888888889]\n",
      "['Rating', 0.776255707762557, 0.7024793388429752, 0.737527114967462]\n"
     ]
    }
   ],
   "source": [
    "# Displaying the Bigrams + BOW - Stop Words + Lemmatize Classification performance results on the test data\n",
    "print(bbsl_feature_score)\n",
    "print(bbsl_bug_score)\n",
    "print(bbsl_userex_score)\n",
    "print(bbsl_rating_score)"
   ]
  },
  {
   "cell_type": "code",
   "execution_count": 12,
   "metadata": {},
   "outputs": [],
   "source": [
    "##### ~~~ Bigrams + Ratings + Lemmatize ~~~ #####\n",
    "# Lemmatizing training and test data\n",
    "lemmatized_bug = train_bug.copy()\n",
    "lemmatized_feature = train_feature.copy()\n",
    "lemmatized_userex = train_userex.copy()\n",
    "lemmatized_rating = train_rating.copy()\n",
    "lemmatized_test = test_data.copy()\n",
    "\n",
    "lemmatized_feature[\"comment\"] = lemmatized_feature[\"comment\"].apply(lemmatizeData)\n",
    "lemmatized_bug[\"comment\"] = lemmatized_bug[\"comment\"].apply(lemmatizeData)\n",
    "lemmatized_userex[\"comment\"] = lemmatized_userex[\"comment\"].apply(lemmatizeData)\n",
    "lemmatized_rating[\"comment\"] = lemmatized_rating[\"comment\"].apply(lemmatizeData)\n",
    "lemmatized_test[\"text\"] = lemmatized_test[\"text\"].apply(lemmatizeData)"
   ]
  },
  {
   "cell_type": "code",
   "execution_count": 13,
   "metadata": {},
   "outputs": [],
   "source": [
    "# Function fit, and run the Bigrams + Ratings + Lemmatize model on the testing data\n",
    "def get_bow_lemmatize_ratings(train_df,type,test_df):\n",
    "    count_vect = CountVectorizer()\n",
    "    bow_train = sp.sparse.hstack((count_vect.fit_transform(train_df.comment),train_df[['rating']].values),format='csr')\n",
    "    bow_test = sp.sparse.hstack((count_vect.transform(test_df.text),test_df[['score_x']].values),format='csr')\n",
    "    if type == 'Feature':\n",
    "        model_bow = GaussianNB().fit(bow_train.todense(),train_df.Feature)\n",
    "        bow_pred = model_bow.predict(bow_test.todense())\n",
    "    elif type == 'Bug':\n",
    "        model_bow = GaussianNB().fit(bow_train.todense(),train_df.Bug)\n",
    "        bow_pred = model_bow.predict(bow_test.todense())\n",
    "    elif type == 'Rating':\n",
    "        model_bow = GaussianNB().fit(bow_train.todense(),train_df.Rating)\n",
    "        bow_pred = model_bow.predict(bow_test.todense())\n",
    "    elif type == 'Userex':\n",
    "        model_bow = GaussianNB().fit(bow_train.todense(),train_df.Userex)\n",
    "        bow_pred = model_bow.predict(bow_test.todense())\n",
    "    f1 = f1_score(test_df[type],bow_pred)\n",
    "    recall = recall_score(test_df[type],bow_pred)\n",
    "    precision = precision_score(test_df[type],bow_pred)\n",
    "    metrics = [type,precision,recall,f1]\n",
    "    return metrics"
   ]
  },
  {
   "cell_type": "code",
   "execution_count": 14,
   "metadata": {},
   "outputs": [],
   "source": [
    "# Running the Bigrams + Ratings + Lemmatize function for each review type and training set\n",
    "blr_feature_score = get_bow_lemmatize_ratings(lemmatized_feature, 'Feature', lemmatized_test)\n",
    "blr_bug_score = get_bow_lemmatize_ratings(lemmatized_bug,'Bug',lemmatized_test)\n",
    "blr_userex_score = get_bow_lemmatize_ratings(lemmatized_userex,'Userex',lemmatized_test)\n",
    "blr_rating_score = get_bow_lemmatize_ratings(lemmatized_rating, 'Rating',lemmatized_test)"
   ]
  },
  {
   "cell_type": "code",
   "execution_count": 15,
   "metadata": {},
   "outputs": [
    {
     "name": "stdout",
     "output_type": "stream",
     "text": [
      "['Feature', 0.1276595744680851, 0.5, 0.20338983050847456]\n",
      "['Bug', 0.25, 0.6428571428571429, 0.36]\n",
      "['Userex', 0.44680851063829785, 0.5478260869565217, 0.49218749999999994]\n",
      "['Rating', 0.8009049773755657, 0.731404958677686, 0.7645788336933046]\n"
     ]
    }
   ],
   "source": [
    "# Displaying the Bigrams + Ratings + Lemmatize Classification performance results on the test data\n",
    "print(blr_feature_score)\n",
    "print(blr_bug_score)\n",
    "print(blr_userex_score)\n",
    "print(blr_rating_score)"
   ]
  },
  {
   "cell_type": "code",
   "execution_count": 16,
   "metadata": {},
   "outputs": [
    {
     "data": {
      "text/html": [
       "<div>\n",
       "<style scoped>\n",
       "    .dataframe tbody tr th:only-of-type {\n",
       "        vertical-align: middle;\n",
       "    }\n",
       "\n",
       "    .dataframe tbody tr th {\n",
       "        vertical-align: top;\n",
       "    }\n",
       "\n",
       "    .dataframe thead th {\n",
       "        text-align: right;\n",
       "    }\n",
       "</style>\n",
       "<table border=\"1\" class=\"dataframe\">\n",
       "  <thead>\n",
       "    <tr style=\"text-align: right;\">\n",
       "      <th></th>\n",
       "      <th>Precision</th>\n",
       "      <th>Recall</th>\n",
       "      <th>F1</th>\n",
       "    </tr>\n",
       "  </thead>\n",
       "  <tbody>\n",
       "    <tr>\n",
       "      <td>Feature</td>\n",
       "      <td>0.145349</td>\n",
       "      <td>0.694444</td>\n",
       "      <td>0.240385</td>\n",
       "    </tr>\n",
       "    <tr>\n",
       "      <td>Bug</td>\n",
       "      <td>0.28777</td>\n",
       "      <td>0.714286</td>\n",
       "      <td>0.410256</td>\n",
       "    </tr>\n",
       "    <tr>\n",
       "      <td>User_Experience</td>\n",
       "      <td>0.410405</td>\n",
       "      <td>0.617391</td>\n",
       "      <td>0.493056</td>\n",
       "    </tr>\n",
       "    <tr>\n",
       "      <td>Ratings</td>\n",
       "      <td>0.746606</td>\n",
       "      <td>0.681818</td>\n",
       "      <td>0.712743</td>\n",
       "    </tr>\n",
       "  </tbody>\n",
       "</table>\n",
       "</div>"
      ],
      "text/plain": [
       "                Precision    Recall        F1\n",
       "Feature          0.145349  0.694444  0.240385\n",
       "Bug               0.28777  0.714286  0.410256\n",
       "User_Experience  0.410405  0.617391  0.493056\n",
       "Ratings          0.746606  0.681818  0.712743"
      ]
     },
     "execution_count": 16,
     "metadata": {},
     "output_type": "execute_result"
    }
   ],
   "source": [
    "##### ~~~ Summary of Results ~~~ #####\n",
    "# Storing Bigrams results as a dataframe\n",
    "d = {'Feature': bg_feature_score, 'Bug': bg_bug_score, 'User_Experience': bg_userex_score, 'Ratings': bg_rating_score}\n",
    "df = pd.concat([pd.Series(v, name=k) for k, v in d.items()], axis=1)\n",
    "df = df.drop(0)\n",
    "df.index = [\"Precision\", \"Recall\", \"F1\"]\n",
    "df.transpose()"
   ]
  },
  {
   "cell_type": "code",
   "execution_count": 17,
   "metadata": {},
   "outputs": [
    {
     "data": {
      "text/html": [
       "<div>\n",
       "<style scoped>\n",
       "    .dataframe tbody tr th:only-of-type {\n",
       "        vertical-align: middle;\n",
       "    }\n",
       "\n",
       "    .dataframe tbody tr th {\n",
       "        vertical-align: top;\n",
       "    }\n",
       "\n",
       "    .dataframe thead th {\n",
       "        text-align: right;\n",
       "    }\n",
       "</style>\n",
       "<table border=\"1\" class=\"dataframe\">\n",
       "  <thead>\n",
       "    <tr style=\"text-align: right;\">\n",
       "      <th></th>\n",
       "      <th>Precision</th>\n",
       "      <th>Recall</th>\n",
       "      <th>F1</th>\n",
       "    </tr>\n",
       "  </thead>\n",
       "  <tbody>\n",
       "    <tr>\n",
       "      <td>Feature</td>\n",
       "      <td>0.131579</td>\n",
       "      <td>0.555556</td>\n",
       "      <td>0.212766</td>\n",
       "    </tr>\n",
       "    <tr>\n",
       "      <td>Bug</td>\n",
       "      <td>0.281046</td>\n",
       "      <td>0.767857</td>\n",
       "      <td>0.411483</td>\n",
       "    </tr>\n",
       "    <tr>\n",
       "      <td>User_Experience</td>\n",
       "      <td>0.425806</td>\n",
       "      <td>0.573913</td>\n",
       "      <td>0.488889</td>\n",
       "    </tr>\n",
       "    <tr>\n",
       "      <td>Ratings</td>\n",
       "      <td>0.776256</td>\n",
       "      <td>0.702479</td>\n",
       "      <td>0.737527</td>\n",
       "    </tr>\n",
       "  </tbody>\n",
       "</table>\n",
       "</div>"
      ],
      "text/plain": [
       "                Precision    Recall        F1\n",
       "Feature          0.131579  0.555556  0.212766\n",
       "Bug              0.281046  0.767857  0.411483\n",
       "User_Experience  0.425806  0.573913  0.488889\n",
       "Ratings          0.776256  0.702479  0.737527"
      ]
     },
     "execution_count": 17,
     "metadata": {},
     "output_type": "execute_result"
    }
   ],
   "source": [
    "# Storing Bigrams + BOW - Stop Words + Lemmatize results as a dataframe\n",
    "d = {'Feature': bbsl_feature_score, 'Bug': bbsl_bug_score, 'User_Experience': bbsl_userex_score, 'Ratings': bbsl_rating_score}\n",
    "df = pd.concat([pd.Series(v, name=k) for k, v in d.items()], axis=1)\n",
    "df = df.drop(0)\n",
    "df.index = [\"Precision\", \"Recall\", \"F1\"]\n",
    "df.transpose()"
   ]
  },
  {
   "cell_type": "code",
   "execution_count": 18,
   "metadata": {},
   "outputs": [
    {
     "data": {
      "text/html": [
       "<div>\n",
       "<style scoped>\n",
       "    .dataframe tbody tr th:only-of-type {\n",
       "        vertical-align: middle;\n",
       "    }\n",
       "\n",
       "    .dataframe tbody tr th {\n",
       "        vertical-align: top;\n",
       "    }\n",
       "\n",
       "    .dataframe thead th {\n",
       "        text-align: right;\n",
       "    }\n",
       "</style>\n",
       "<table border=\"1\" class=\"dataframe\">\n",
       "  <thead>\n",
       "    <tr style=\"text-align: right;\">\n",
       "      <th></th>\n",
       "      <th>Precision</th>\n",
       "      <th>Recall</th>\n",
       "      <th>F1</th>\n",
       "    </tr>\n",
       "  </thead>\n",
       "  <tbody>\n",
       "    <tr>\n",
       "      <td>Feature</td>\n",
       "      <td>0.12766</td>\n",
       "      <td>0.5</td>\n",
       "      <td>0.20339</td>\n",
       "    </tr>\n",
       "    <tr>\n",
       "      <td>Bug</td>\n",
       "      <td>0.25</td>\n",
       "      <td>0.642857</td>\n",
       "      <td>0.36</td>\n",
       "    </tr>\n",
       "    <tr>\n",
       "      <td>User_Experience</td>\n",
       "      <td>0.446809</td>\n",
       "      <td>0.547826</td>\n",
       "      <td>0.492187</td>\n",
       "    </tr>\n",
       "    <tr>\n",
       "      <td>Ratings</td>\n",
       "      <td>0.800905</td>\n",
       "      <td>0.731405</td>\n",
       "      <td>0.764579</td>\n",
       "    </tr>\n",
       "  </tbody>\n",
       "</table>\n",
       "</div>"
      ],
      "text/plain": [
       "                Precision    Recall        F1\n",
       "Feature           0.12766       0.5   0.20339\n",
       "Bug                  0.25  0.642857      0.36\n",
       "User_Experience  0.446809  0.547826  0.492187\n",
       "Ratings          0.800905  0.731405  0.764579"
      ]
     },
     "execution_count": 18,
     "metadata": {},
     "output_type": "execute_result"
    }
   ],
   "source": [
    "# Storing Bigrams + Ratings + Lemmatize results as a dataframe\n",
    "d = {'Feature': blr_feature_score, 'Bug': blr_bug_score, 'User_Experience': blr_userex_score, 'Ratings': blr_rating_score}\n",
    "df = pd.concat([pd.Series(v, name=k) for k, v in d.items()], axis=1)\n",
    "df = df.drop(0)\n",
    "df.index = [\"Precision\", \"Recall\", \"F1\"]\n",
    "df.transpose()"
   ]
  },
  {
   "cell_type": "code",
   "execution_count": 19,
   "metadata": {},
   "outputs": [
    {
     "name": "stdout",
     "output_type": "stream",
     "text": [
      "Feature:  36.0\n",
      "Bug:  56.0\n",
      "Userex:  115.0\n",
      "Rating:  242.0\n"
     ]
    }
   ],
   "source": [
    "##### ~~~ Summary of Number of Reviews per Category ~~~ #####\n",
    "print(\"Feature: \", test_data.Feature.sum())\n",
    "print(\"Bug: \", test_data.Bug.sum())\n",
    "print(\"Userex: \", test_data.Userex.sum())\n",
    "print(\"Rating: \", test_data.Rating.sum())"
   ]
  }
 ],
 "metadata": {
  "kernelspec": {
   "display_name": "Python 3",
   "language": "python",
   "name": "python3"
  },
  "language_info": {
   "codemirror_mode": {
    "name": "ipython",
    "version": 3
   },
   "file_extension": ".py",
   "mimetype": "text/x-python",
   "name": "python",
   "nbconvert_exporter": "python",
   "pygments_lexer": "ipython3",
   "version": "3.7.3"
  }
 },
 "nbformat": 4,
 "nbformat_minor": 4
}
