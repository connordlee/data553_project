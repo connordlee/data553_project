{
 "cells": [
  {
   "cell_type": "code",
   "execution_count": 165,
   "metadata": {},
   "outputs": [],
   "source": [
    "import pandas as pd\n",
    "import numpy as np\n",
    "from sklearn.feature_extraction.text import CountVectorizer\n",
    "import os\n",
    "from sklearn.naive_bayes import GaussianNB\n",
    "from sklearn.metrics import classification_report\n",
    "from sklearn.metrics import f1_score, precision_score, recall_score\n"
   ]
  },
  {
   "cell_type": "code",
   "execution_count": 166,
   "metadata": {},
   "outputs": [],
   "source": [
    "cwd = os.getcwd()\n",
    "train_bug = pd.read_json(cwd+'/training_data/Bug_tt.json')\n",
    "train_feature = pd.read_json(cwd+'/training_data/Feature_tt.json')\n",
    "train_rating = pd.read_json(cwd+'/training_data/Rating_tt.json')\n",
    "train_userex = pd.read_json(cwd+'/training_data/UserExperience_tt.json')"
   ]
  },
  {
   "cell_type": "code",
   "execution_count": 167,
   "metadata": {},
   "outputs": [],
   "source": [
    "train_bug['Bug'] = np.where(train_bug['label']==\"Bug\", 1, 0)\n",
    "train_feature['Feature'] = np.where(train_feature['label']==\"Feature\", 1, 0)\n",
    "train_rating['Rating'] = np.where(train_rating['label']==\"Rating\", 1, 0)\n",
    "train_userex['Userex'] = np.where(train_userex['label']==\"UserExperience\",1,0)"
   ]
  },
  {
   "cell_type": "code",
   "execution_count": 168,
   "metadata": {},
   "outputs": [],
   "source": [
    "test_data = pd.read_excel('data553_CH.xlsx')\n",
    "test_data=test_data.fillna(0)"
   ]
  },
  {
   "cell_type": "code",
   "execution_count": 169,
   "metadata": {},
   "outputs": [],
   "source": [
    "def get_bigram(train_df,type,test_df):\n",
    "    count_vect = CountVectorizer(ngram_range=(2,2))\n",
    "    bg_train_counts = count_vect.fit_transform(train_df.comment)\n",
    "    bg_test_counts = count_vect.transform(test_df.text)\n",
    "    if type == 'Feature':\n",
    "        model_bigram = GaussianNB().fit(bg_train_counts.todense(),train_df.Feature)\n",
    "        bigram_pred = model_bigram.predict(bg_test_counts.todense())\n",
    "    elif type == 'Bug':\n",
    "        model_bigram = GaussianNB().fit(bg_train_counts.toarray(),train_df.Bug)\n",
    "        bigram_pred = model_bigram.predict(bg_test_counts.toarray())\n",
    "    elif type == 'Rating':\n",
    "        model_bigram = GaussianNB().fit(bg_train_counts.todense(),train_df.Rating)\n",
    "        bigram_pred = model_bigram.predict(bg_test_counts.todense())\n",
    "    elif type == 'Userex':\n",
    "        model_bigram = GaussianNB().fit(bg_train_counts.todense(),train_df.Userex)\n",
    "        bigram_pred = model_bigram.predict(bg_test_counts.todense())\n",
    "    f1 = f1_score(test_df[type],bigram_pred)\n",
    "    recall = recall_score(test_df[type],bigram_pred)\n",
    "    precision = precision_score(test_df[type],bigram_pred)\n",
    "    metrics = [type,precision,recall,f1]\n",
    "    return metrics"
   ]
  },
  {
   "cell_type": "code",
   "execution_count": 170,
   "metadata": {},
   "outputs": [],
   "source": [
    "bg_feature_score = get_bigram(train_feature,'Feature',test_data)\n",
    "bg_bug_score = get_bigram(train_bug,'Bug',test_data)\n",
    "bg_userex_score = get_bigram(train_userex,'Userex',test_data)\n",
    "bg_rating_score = get_bigram(train_rating,'Rating',test_data)"
   ]
  },
  {
   "cell_type": "code",
   "execution_count": 171,
   "metadata": {},
   "outputs": [
    {
     "name": "stdout",
     "output_type": "stream",
     "text": [
      "['Feature', 0.05813953488372093, 0.5, 0.10416666666666667]\n",
      "['Bug', 0.1510791366906475, 0.6363636363636364, 0.2441860465116279]\n",
      "['Userex', 0.24855491329479767, 0.6417910447761194, 0.35833333333333334]\n",
      "['Rating', 0.42081447963800905, 0.808695652173913, 0.5535714285714286]\n"
     ]
    }
   ],
   "source": [
    "print(bg_feature_score)\n",
    "print(bg_bug_score)\n",
    "print(bg_userex_score)\n",
    "print(bg_rating_score)"
   ]
  }
 ],
 "metadata": {
  "kernelspec": {
   "display_name": "Python 3",
   "language": "python",
   "name": "python3"
  },
  "language_info": {
   "codemirror_mode": {
    "name": "ipython",
    "version": 3
   },
   "file_extension": ".py",
   "mimetype": "text/x-python",
   "name": "python",
   "nbconvert_exporter": "python",
   "pygments_lexer": "ipython3",
   "version": "3.7.3"
  }
 },
 "nbformat": 4,
 "nbformat_minor": 2
}
