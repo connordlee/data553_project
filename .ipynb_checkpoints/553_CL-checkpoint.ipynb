{
 "cells": [
  {
   "cell_type": "code",
   "execution_count": 1,
   "metadata": {},
   "outputs": [],
   "source": [
    "import pandas as pd\n",
    "import numpy as np\n",
    "from sklearn.feature_extraction.text import CountVectorizer\n",
    "import os\n",
    "from sklearn.naive_bayes import GaussianNB\n",
    "from sklearn.metrics import classification_report\n",
    "from sklearn.metrics import f1_score, precision_score, recall_score\n",
    "\n",
    "### Libraries added by Connor\n",
    "from nltk.corpus import stopwords\n",
    "from nltk.stem import LancasterStemmer # Need to discuss stemming vs. lemmatization (they say lemmatization, but results are consistent with stemming)\n",
    "from nltk.tokenize import word_tokenize # Need to discuss stemming vs. lemmatization (they say lemmatization, but results are consistent with stemming)\n",
    "from nltk.stem import WordNetLemmatizer"
   ]
  },
  {
   "cell_type": "code",
   "execution_count": 2,
   "metadata": {},
   "outputs": [],
   "source": [
    "cwd = os.getcwd()\n",
    "train_bug = pd.read_json(cwd+'/training_data/Bug_tt.json')\n",
    "train_feature = pd.read_json(cwd+'/training_data/Feature_tt.json')\n",
    "train_rating = pd.read_json(cwd+'/training_data/Rating_tt.json')\n",
    "train_userex = pd.read_json(cwd+'/training_data/UserExperience_tt.json')"
   ]
  },
  {
   "cell_type": "code",
   "execution_count": 3,
   "metadata": {},
   "outputs": [],
   "source": [
    "train_bug['Bug'] = np.where(train_bug['label']==\"Bug\", 1, 0)\n",
    "train_feature['Feature'] = np.where(train_feature['label']==\"Feature\", 1, 0)\n",
    "train_rating['Rating'] = np.where(train_rating['label']==\"Rating\", 1, 0)\n",
    "train_userex['Userex'] = np.where(train_userex['label']==\"UserExperience\",1,0)"
   ]
  },
  {
   "cell_type": "code",
   "execution_count": 4,
   "metadata": {},
   "outputs": [],
   "source": [
    "test_data = pd.read_excel('data553_CH+AK&CH+CL.xlsx')\n",
    "test_data=test_data.fillna(0)"
   ]
  },
  {
   "cell_type": "code",
   "execution_count": 5,
   "metadata": {},
   "outputs": [],
   "source": [
    "def get_bigram(train_df,type,test_df):\n",
    "    count_vect = CountVectorizer(ngram_range=(2,2))\n",
    "    bg_train_counts = count_vect.fit_transform(train_df.comment)\n",
    "    bg_test_counts = count_vect.transform(test_df.text)\n",
    "    if type == 'Feature':\n",
    "        model_bigram = GaussianNB().fit(bg_train_counts.todense(),train_df.Feature)\n",
    "        bigram_pred = model_bigram.predict(bg_test_counts.todense())\n",
    "    elif type == 'Bug':\n",
    "        model_bigram = GaussianNB().fit(bg_train_counts.toarray(),train_df.Bug)\n",
    "        bigram_pred = model_bigram.predict(bg_test_counts.toarray())\n",
    "    elif type == 'Rating':\n",
    "        model_bigram = GaussianNB().fit(bg_train_counts.todense(),train_df.Rating)\n",
    "        bigram_pred = model_bigram.predict(bg_test_counts.todense())\n",
    "    elif type == 'Userex':\n",
    "        model_bigram = GaussianNB().fit(bg_train_counts.todense(),train_df.Userex)\n",
    "        bigram_pred = model_bigram.predict(bg_test_counts.todense())\n",
    "    f1 = f1_score(test_df[type],bigram_pred)\n",
    "    recall = recall_score(test_df[type],bigram_pred)\n",
    "    precision = precision_score(test_df[type],bigram_pred)\n",
    "    metrics = [type,precision,recall,f1]\n",
    "    return metrics"
   ]
  },
  {
   "cell_type": "code",
   "execution_count": 6,
   "metadata": {},
   "outputs": [],
   "source": [
    "bg_feature_score = get_bigram(train_feature,'Feature',test_data)\n",
    "bg_bug_score = get_bigram(train_bug,'Bug',test_data)\n",
    "bg_userex_score = get_bigram(train_userex,'Userex',test_data)\n",
    "bg_rating_score = get_bigram(train_rating,'Rating',test_data)"
   ]
  },
  {
   "cell_type": "code",
   "execution_count": 7,
   "metadata": {},
   "outputs": [
    {
     "name": "stdout",
     "output_type": "stream",
     "text": [
      "['Feature', 0.14534883720930233, 0.6944444444444444, 0.2403846153846154]\n",
      "['Bug', 0.28776978417266186, 0.7142857142857143, 0.41025641025641024]\n",
      "['Userex', 0.41040462427745666, 0.6173913043478261, 0.4930555555555556]\n",
      "['Rating', 0.746606334841629, 0.6818181818181818, 0.712742980561555]\n"
     ]
    }
   ],
   "source": [
    "print(bg_feature_score)\n",
    "print(bg_bug_score)\n",
    "print(bg_userex_score)\n",
    "print(bg_rating_score)"
   ]
  },
  {
   "cell_type": "markdown",
   "metadata": {},
   "source": [
    "**Output just Christians Reviews:**\n",
    "\n",
    "* ['Feature', 0.0872093023255814, 0.6, 0.15228426395939088]\n",
    "* ['Bug', 0.1510791366906475, 0.6774193548387096, 0.24705882352941175]\n",
    "* ['Userex', 0.2543352601156069, 0.6197183098591549, 0.36065573770491804]\n",
    "* ['Rating', 0.5158371040723982, 0.7169811320754716, 0.6]"
   ]
  },
  {
   "cell_type": "code",
   "execution_count": 8,
   "metadata": {},
   "outputs": [],
   "source": [
    "##### ~~~ Bigrams + BOW - Stop Words + Stemming ~~~ #####\n",
    "# Stemming Function (NOTE: From inspecting the output data from the \"lemmatization\" completed by the experimenters we see that the results are more consistent with stemming than lemmatization)\n",
    "def stemData(commentSeries):\n",
    "    lancaster = LancasterStemmer()\n",
    "    tokens = [token for token in commentSeries.split(\" \") if token != \"\"]\n",
    "    output = ' '.join([lancaster.stem(word) for word in tokens])\n",
    "    return output\n",
    "\n",
    "# Lematizing Function (Not using but included for now so that we can discuss if we want to do stemming or lemmatization)\n",
    "def lemmatizeData(commentSeries):\n",
    "    lemmatizer = WordNetLemmatizer()\n",
    "    tokens = [token for token in commentSeries.split(\" \") if token != \"\"]\n",
    "    output = ' '.join([lemmatizer.lemmatize(word) for word in tokens])\n",
    "    return output"
   ]
  },
  {
   "cell_type": "code",
   "execution_count": 9,
   "metadata": {},
   "outputs": [],
   "source": [
    "# Function will be called get_BBSS for Bigrams + BOW - Stop Words + stemming\n",
    "def get_bbss(train_df,type,test_df):\n",
    "    bbss_train_counts = train_df.comment.apply(lemmatizeData)\n",
    "    bbss_test_counts = test_df.text.apply(lemmatizeData)\n",
    "    stop_words = set(stopwords.words('english'))\n",
    "    count_vect = CountVectorizer(stop_words=stop_words, ngram_range=(1,2))\n",
    "    bbss_train_counts = count_vect.fit_transform(train_df.comment)\n",
    "    bbss_test_counts = count_vect.transform(test_df.text)\n",
    "    if type == 'Feature':\n",
    "        model_bbss = GaussianNB().fit(bbss_train_counts.todense(),train_df.Feature)\n",
    "        bbss_pred = model_bbss.predict(bbss_test_counts.todense())\n",
    "    elif type == 'Bug':\n",
    "        model_bbss = GaussianNB().fit(bbss_train_counts.toarray(),train_df.Bug)\n",
    "        bbss_pred = model_bbss.predict(bbss_test_counts.toarray())\n",
    "    elif type == 'Rating':\n",
    "        model_bbss = GaussianNB().fit(bbss_train_counts.todense(),train_df.Rating)\n",
    "        bbss_pred = model_bbss.predict(bbss_test_counts.todense())\n",
    "    elif type == 'Userex':\n",
    "        model_bbss = GaussianNB().fit(bbss_train_counts.todense(),train_df.Userex)\n",
    "        bbss_pred = model_bbss.predict(bbss_test_counts.todense())\n",
    "    f1 = f1_score(test_df[type],bbss_pred)\n",
    "    recall = recall_score(test_df[type],bbss_pred)\n",
    "    precision = precision_score(test_df[type],bbss_pred)\n",
    "    metrics = [type,precision,recall,f1]\n",
    "    return metrics"
   ]
  },
  {
   "cell_type": "code",
   "execution_count": 10,
   "metadata": {},
   "outputs": [],
   "source": [
    "bbss_feature_score = get_bbss(train_feature,'Feature',test_data)\n",
    "bbss_bug_score = get_bbss(train_bug,'Bug',test_data)\n",
    "bbss_userex_score = get_bbss(train_userex,'Userex',test_data)\n",
    "bbss_rating_score = get_bbss(train_rating,'Rating',test_data)"
   ]
  },
  {
   "cell_type": "code",
   "execution_count": 11,
   "metadata": {},
   "outputs": [
    {
     "name": "stdout",
     "output_type": "stream",
     "text": [
      "['Feature', 0.13157894736842105, 0.5555555555555556, 0.2127659574468085]\n",
      "['Bug', 0.28104575163398693, 0.7678571428571429, 0.41148325358851673]\n",
      "['Userex', 0.4258064516129032, 0.5739130434782609, 0.4888888888888889]\n",
      "['Rating', 0.776255707762557, 0.7024793388429752, 0.737527114967462]\n"
     ]
    }
   ],
   "source": [
    "print(bbss_feature_score)\n",
    "print(bbss_bug_score)\n",
    "print(bbss_userex_score)\n",
    "print(bbss_rating_score)"
   ]
  },
  {
   "cell_type": "markdown",
   "metadata": {},
   "source": [
    "**Output Before Changing from Just Bigrams to Bigrams and Unigrams:**\n",
    "\n",
    "* ['Feature', 0.19047619047619047, 0.3333333333333333, 0.24242424242424246]\n",
    "* ['Bug', 0.3548387096774194, 0.39285714285714285, 0.3728813559322034]\n",
    "* ['Userex', 0.5555555555555556, 0.34782608695652173, 0.42780748663101603]\n",
    "* ['Rating', 0.6719242902208202, 0.8801652892561983, 0.7620751341681575]"
   ]
  },
  {
   "cell_type": "code",
   "execution_count": 16,
   "metadata": {},
   "outputs": [
    {
     "name": "stdout",
     "output_type": "stream",
     "text": [
      "Feature:  36.0\n",
      "Bug:  56.0\n",
      "Userex:  115.0\n",
      "Rating:  242.0\n"
     ]
    }
   ],
   "source": [
    "print(\"Feature: \", test_data.Feature.sum())\n",
    "print(\"Bug: \", test_data.Bug.sum())\n",
    "print(\"Userex: \", test_data.Userex.sum())\n",
    "print(\"Rating: \", test_data.Rating.sum())"
   ]
  },
  {
   "cell_type": "code",
   "execution_count": null,
   "metadata": {},
   "outputs": [],
   "source": []
  }
 ],
 "metadata": {
  "kernelspec": {
   "display_name": "Python 3",
   "language": "python",
   "name": "python3"
  },
  "language_info": {
   "codemirror_mode": {
    "name": "ipython",
    "version": 3
   },
   "file_extension": ".py",
   "mimetype": "text/x-python",
   "name": "python",
   "nbconvert_exporter": "python",
   "pygments_lexer": "ipython3",
   "version": "3.7.3"
  }
 },
 "nbformat": 4,
 "nbformat_minor": 4
}
